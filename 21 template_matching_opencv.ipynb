{
 "cells": [
  {
   "cell_type": "code",
   "execution_count": 2,
   "id": "f2074e30",
   "metadata": {},
   "outputs": [],
   "source": [
    "import cv2\n",
    "import numpy as np\n",
    "\n",
    "img = cv2.imread(\"messi5.jpg\")\n",
    "\n",
    "cv2.imshow(\"image\", img)\n",
    "cv2.waitKey(0)\n",
    "cv2.destroyAllWindows()"
   ]
  },
  {
   "cell_type": "code",
   "execution_count": 6,
   "id": "9101de72",
   "metadata": {},
   "outputs": [
    {
     "name": "stdout",
     "output_type": "stream",
     "text": [
      "[[ 0.11534169  0.1096395   0.1016371  ...  0.02700457  0.00867547\n",
      "  -0.00816518]\n",
      " [ 0.10197284  0.09765939  0.09106244 ...  0.01293948 -0.00559146\n",
      "  -0.02232698]\n",
      " [ 0.08704131  0.08369385  0.07809284 ...  0.00034459 -0.01799751\n",
      "  -0.03434851]\n",
      " ...\n",
      " [ 0.24374187  0.24369498  0.24921656 ... -0.02559779 -0.02310547\n",
      "  -0.03058246]\n",
      " [ 0.25909117  0.25757876  0.26058397 ... -0.05020759 -0.04560031\n",
      "  -0.04685766]\n",
      " [ 0.25098836  0.24975081  0.2527764  ... -0.06452509 -0.06000135\n",
      "  -0.0597908 ]]\n"
     ]
    }
   ],
   "source": [
    "import cv2\n",
    "import numpy as np\n",
    "\n",
    "img = cv2.imread(\"messi5.jpg\")\n",
    "grey_img = cv2.cvtColor(img, cv2.COLOR_BGR2GRAY)\n",
    "template = cv2.imread(\"messi5-face.jpg\", 0)\n",
    "\n",
    "res = cv2.matchTemplate(grey_img, template, cv2.TM_CCOEFF_NORMED)\n",
    "print(res)\n",
    "\n",
    "cv2.imshow(\"image\", img)\n",
    "cv2.waitKey(0)\n",
    "cv2.destroyAllWindows()"
   ]
  },
  {
   "cell_type": "code",
   "execution_count": 8,
   "id": "d4736546",
   "metadata": {},
   "outputs": [
    {
     "name": "stdout",
     "output_type": "stream",
     "text": [
      "[[ 0.11534169  0.1096395   0.1016371  ...  0.02700457  0.00867547\n",
      "  -0.00816518]\n",
      " [ 0.10197284  0.09765939  0.09106244 ...  0.01293948 -0.00559146\n",
      "  -0.02232698]\n",
      " [ 0.08704131  0.08369385  0.07809284 ...  0.00034459 -0.01799751\n",
      "  -0.03434851]\n",
      " ...\n",
      " [ 0.24374187  0.24369498  0.24921656 ... -0.02559779 -0.02310547\n",
      "  -0.03058246]\n",
      " [ 0.25909117  0.25757876  0.26058397 ... -0.05020759 -0.04560031\n",
      "  -0.04685766]\n",
      " [ 0.25098836  0.24975081  0.2527764  ... -0.06452509 -0.06000135\n",
      "  -0.0597908 ]]\n",
      "(array([64, 64, 64, 65, 65, 65, 65, 66, 66, 66], dtype=int64), array([207, 208, 209, 207, 208, 209, 210, 207, 208, 209], dtype=int64))\n"
     ]
    }
   ],
   "source": [
    "import cv2\n",
    "import numpy as np\n",
    "\n",
    "img = cv2.imread(\"messi5.jpg\")\n",
    "grey_img = cv2.cvtColor(img, cv2.COLOR_BGR2GRAY)\n",
    "template = cv2.imread(\"messi5-face.jpg\", 0)\n",
    "\n",
    "res = cv2.matchTemplate(grey_img, template, cv2.TM_CCOEFF_NORMED)\n",
    "print(res)\n",
    "threshold = 0.8;\n",
    "loc = np.where(res >= threshold)\n",
    "print(loc)\n",
    "\n",
    "\n",
    "cv2.imshow(\"image\", img)\n",
    "cv2.waitKey(0)\n",
    "cv2.destroyAllWindows()"
   ]
  },
  {
   "cell_type": "code",
   "execution_count": 10,
   "id": "ee81e587",
   "metadata": {},
   "outputs": [
    {
     "name": "stdout",
     "output_type": "stream",
     "text": [
      "[[ 0.11534169  0.1096395   0.1016371  ...  0.02700457  0.00867547\n",
      "  -0.00816518]\n",
      " [ 0.10197284  0.09765939  0.09106244 ...  0.01293948 -0.00559146\n",
      "  -0.02232698]\n",
      " [ 0.08704131  0.08369385  0.07809284 ...  0.00034459 -0.01799751\n",
      "  -0.03434851]\n",
      " ...\n",
      " [ 0.24374187  0.24369498  0.24921656 ... -0.02559779 -0.02310547\n",
      "  -0.03058246]\n",
      " [ 0.25909117  0.25757876  0.26058397 ... -0.05020759 -0.04560031\n",
      "  -0.04685766]\n",
      " [ 0.25098836  0.24975081  0.2527764  ... -0.06452509 -0.06000135\n",
      "  -0.0597908 ]]\n",
      "(array([65], dtype=int64), array([208], dtype=int64))\n"
     ]
    }
   ],
   "source": [
    "import cv2\n",
    "import numpy as np\n",
    "\n",
    "img = cv2.imread(\"messi5.jpg\")\n",
    "grey_img = cv2.cvtColor(img, cv2.COLOR_BGR2GRAY)\n",
    "template = cv2.imread(\"messi5-face.jpg\", 0)\n",
    "\n",
    "res = cv2.matchTemplate(grey_img, template, cv2.TM_CCOEFF_NORMED)\n",
    "print(res)\n",
    "threshold = 0.95;\n",
    "loc = np.where(res >= threshold)\n",
    "print(loc)\n",
    "\n",
    "\n",
    "cv2.imshow(\"image\", img)\n",
    "cv2.waitKey(0)\n",
    "cv2.destroyAllWindows()"
   ]
  },
  {
   "cell_type": "code",
   "execution_count": 11,
   "id": "c37d3148",
   "metadata": {},
   "outputs": [
    {
     "name": "stdout",
     "output_type": "stream",
     "text": [
      "[[ 0.11534169  0.1096395   0.1016371  ...  0.02700457  0.00867547\n",
      "  -0.00816518]\n",
      " [ 0.10197284  0.09765939  0.09106244 ...  0.01293948 -0.00559146\n",
      "  -0.02232698]\n",
      " [ 0.08704131  0.08369385  0.07809284 ...  0.00034459 -0.01799751\n",
      "  -0.03434851]\n",
      " ...\n",
      " [ 0.24374187  0.24369498  0.24921656 ... -0.02559779 -0.02310547\n",
      "  -0.03058246]\n",
      " [ 0.25909117  0.25757876  0.26058397 ... -0.05020759 -0.04560031\n",
      "  -0.04685766]\n",
      " [ 0.25098836  0.24975081  0.2527764  ... -0.06452509 -0.06000135\n",
      "  -0.0597908 ]]\n",
      "(array([65], dtype=int64), array([208], dtype=int64))\n"
     ]
    }
   ],
   "source": [
    "import cv2\n",
    "import numpy as np\n",
    "\n",
    "img = cv2.imread(\"messi5.jpg\")\n",
    "grey_img = cv2.cvtColor(img, cv2.COLOR_BGR2GRAY)\n",
    "template = cv2.imread(\"messi5-face.jpg\", 0)\n",
    "w, h = template.shape[::-1]\n",
    "\n",
    "res = cv2.matchTemplate(grey_img, template, cv2.TM_CCOEFF_NORMED)\n",
    "print(res)\n",
    "threshold = 0.95;\n",
    "loc = np.where(res >= threshold)\n",
    "print(loc)\n",
    "for pt in zip(*loc[::-1]):\n",
    "    cv2.rectangle(img, pt, (pt[0] + w, pt[1] + h), (0,0,255), 2)\n",
    "\n",
    "cv2.imshow(\"image\", img)\n",
    "cv2.waitKey(0)\n",
    "cv2.destroyAllWindows()"
   ]
  },
  {
   "cell_type": "code",
   "execution_count": 16,
   "id": "0934be8c",
   "metadata": {},
   "outputs": [
    {
     "name": "stdout",
     "output_type": "stream",
     "text": [
      "[[0. 0. 0. ... 0. 0. 0.]\n",
      " [0. 0. 0. ... 0. 0. 0.]\n",
      " [0. 0. 0. ... 0. 0. 0.]\n",
      " ...\n",
      " [0. 0. 0. ... 0. 0. 0.]\n",
      " [0. 0. 0. ... 0. 0. 0.]\n",
      " [0. 0. 0. ... 0. 0. 0.]]\n",
      "(array([70, 70, 70, 70, 70, 71, 71, 71, 71, 71, 71, 71, 71, 72, 72, 72, 72,\n",
      "       72, 72, 72, 72, 72, 72, 72, 72, 73, 73, 73, 73, 73, 73, 73, 73, 73,\n",
      "       73, 73, 73, 73, 73, 74, 74, 74, 74, 74, 74, 74, 74, 74, 74, 75, 75,\n",
      "       75, 75, 75, 76, 76], dtype=int64), array([267, 268, 511, 512, 513, 266, 267, 268, 511, 512, 513, 640, 641,\n",
      "       265, 266, 267, 268, 389, 511, 512, 513, 639, 640, 641, 642, 140,\n",
      "       141, 266, 267, 268, 388, 389, 511, 512, 513, 639, 640, 641, 642,\n",
      "       139, 140, 141, 142, 266, 267, 512, 639, 640, 641, 139, 140, 141,\n",
      "       142, 640, 140, 141], dtype=int64))\n"
     ]
    }
   ],
   "source": [
    "import cv2\n",
    "import numpy as np\n",
    "\n",
    "img = cv2.imread(\"temp.jpg\")\n",
    "grey_img = cv2.cvtColor(img, cv2.COLOR_BGR2GRAY)\n",
    "template = cv2.imread(\"temp-face.jpg\", 0)\n",
    "w, h = template.shape[::-1]\n",
    "\n",
    "res = cv2.matchTemplate(grey_img, template, cv2.TM_CCOEFF_NORMED)\n",
    "print(res)\n",
    "threshold = 0.7;\n",
    "loc = np.where(res >= threshold)\n",
    "print(loc)\n",
    "for pt in zip(*loc[::-1]):\n",
    "    cv2.rectangle(img, pt, (pt[0] + w, pt[1] + h), (0,0,255), 2)\n",
    "\n",
    "cv2.imshow(\"image\", img)\n",
    "cv2.waitKey(0)\n",
    "cv2.destroyAllWindows()"
   ]
  },
  {
   "cell_type": "code",
   "execution_count": null,
   "id": "019e3593",
   "metadata": {},
   "outputs": [],
   "source": []
  }
 ],
 "metadata": {
  "kernelspec": {
   "display_name": "Python 3",
   "language": "python",
   "name": "python3"
  },
  "language_info": {
   "codemirror_mode": {
    "name": "ipython",
    "version": 3
   },
   "file_extension": ".py",
   "mimetype": "text/x-python",
   "name": "python",
   "nbconvert_exporter": "python",
   "pygments_lexer": "ipython3",
   "version": "3.7.10"
  }
 },
 "nbformat": 4,
 "nbformat_minor": 5
}
