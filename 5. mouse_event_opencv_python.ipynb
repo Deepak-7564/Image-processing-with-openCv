{
 "cells": [
  {
   "cell_type": "code",
   "execution_count": 1,
   "id": "commercial-cisco",
   "metadata": {},
   "outputs": [
    {
     "name": "stdout",
     "output_type": "stream",
     "text": [
      "['EVENT_FLAG_ALTKEY', 'EVENT_FLAG_CTRLKEY', 'EVENT_FLAG_LBUTTON', 'EVENT_FLAG_MBUTTON', 'EVENT_FLAG_RBUTTON', 'EVENT_FLAG_SHIFTKEY', 'EVENT_LBUTTONDBLCLK', 'EVENT_LBUTTONDOWN', 'EVENT_LBUTTONUP', 'EVENT_MBUTTONDBLCLK', 'EVENT_MBUTTONDOWN', 'EVENT_MBUTTONUP', 'EVENT_MOUSEHWHEEL', 'EVENT_MOUSEMOVE', 'EVENT_MOUSEWHEEL', 'EVENT_RBUTTONDBLCLK', 'EVENT_RBUTTONDOWN', 'EVENT_RBUTTONUP']\n"
     ]
    }
   ],
   "source": [
    "import numpy as np\n",
    "import cv2\n",
    "\n",
    "events = [i for i in dir(cv2) if 'EVENT' in i]\n",
    "print(events)"
   ]
  },
  {
   "cell_type": "code",
   "execution_count": 10,
   "id": "intelligent-discrimination",
   "metadata": {},
   "outputs": [],
   "source": [
    "import numpy as np\n",
    "import cv2\n",
    "\n",
    "def click_event(event, x, y, flags, param):\n",
    "    if event == cv2.EVENT_LBUTTONDOWN:\n",
    "        print(x,', ',y)\n",
    "        font = cv2.FONT_HERSHEY_SIMPLEX\n",
    "        strXY = str(x) + ',' + str(y)\n",
    "    \n",
    "        cv2.putText(img,strXY,(x,y),font,.5,(255,0,255),2 )\n",
    "        cv2.imshow('image',img)\n",
    "   \n",
    "img = np.zeros((512,512,3), np.uint8)\n",
    "cv2.imshow('image',img)\n",
    "\n",
    "cv2.setMouseCallback('image', click_event)\n",
    "\n",
    "cv2.waitKey(0)\n",
    "cv2.destroyAllWindows()"
   ]
  },
  {
   "cell_type": "code",
   "execution_count": 9,
   "id": "unauthorized-bulgarian",
   "metadata": {},
   "outputs": [],
   "source": [
    "import numpy as np\n",
    "import cv2\n",
    "\n",
    "def click_event(event, x, y, flags, param):\n",
    "    if event == cv2.EVENT_LBUTTONDOWN:\n",
    "        print(x,', ',y)\n",
    "        font = cv2.FONT_HERSHEY_SIMPLEX\n",
    "        strXY = str(x) + ',' + str(y)\n",
    "    \n",
    "        cv2.putText(img,strXY,(x,y),font,.5,(255,0,255),2 )\n",
    "        cv2.imshow('image',img)\n",
    "    if event == cv2.EVENT_RBUTTONDOWN:\n",
    "        blue  = img[y,x,0]\n",
    "        green = img[y,x,1]\n",
    "        red   = img[y,x,2]\n",
    "        font = cv2.FONT_HERSHEY_SIMPLEX\n",
    "        strBGR = str(blue) + ', '+ str(green)+ ', '+ str(red)\n",
    "        cv2.putText(img, strBGR, (x,y), font, .5, (0,255,255),2)\n",
    "        cv2.imshow('image',img)\n",
    "img = np.zeros((512,512,3), np.uint8)\n",
    "cv2.imshow('image',img)\n",
    "\n",
    "cv2.setMouseCallback('image', click_event)\n",
    "\n",
    "cv2.waitKey(0)\n",
    "cv2.destroyAllWindows()"
   ]
  },
  {
   "cell_type": "code",
   "execution_count": 13,
   "id": "variable-fusion",
   "metadata": {},
   "outputs": [],
   "source": [
    "import numpy as np\n",
    "import cv2\n",
    "\n",
    "def click_event(event, x, y, flags, param):\n",
    "    if event == cv2.EVENT_LBUTTONDOWN:\n",
    "        print(x,', ',y)\n",
    "        font = cv2.FONT_HERSHEY_SIMPLEX\n",
    "        strXY = str(x) + ',' + str(y)\n",
    "    \n",
    "        cv2.putText(img,strXY,(x,y),font,.5,(0,0,255),2 )\n",
    "        cv2.imshow('image',img)\n",
    "    if event == cv2.EVENT_RBUTTONDOWN:\n",
    "        blue  = img[y,x,0]\n",
    "        green = img[y,x,1]\n",
    "        red   = img[y,x,2]\n",
    "        font = cv2.FONT_HERSHEY_SIMPLEX\n",
    "        strBGR = str(blue) + ', '+ str(green)+ ', '+ str(red)\n",
    "        cv2.putText(img, strBGR, (x,y), font, .5, (0,255,255),2)\n",
    "        cv2.imshow('image',img)\n",
    "#img = np.zeros((512,512,3), np.uint8)\n",
    "img = cv2.imread('lena.jpg')\n",
    "\n",
    "cv2.imshow('image',img)\n",
    "\n",
    "cv2.setMouseCallback('image', click_event)\n",
    "\n",
    "cv2.waitKey(0)\n",
    "cv2.destroyAllWindows()"
   ]
  },
  {
   "cell_type": "code",
   "execution_count": 16,
   "id": "flush-lighting",
   "metadata": {},
   "outputs": [],
   "source": [
    "import numpy as np\n",
    "import cv2\n",
    "\n",
    "def click_event(event, x, y, flags, param):\n",
    "    if event == cv2.EVENT_LBUTTONDOWN:\n",
    "        cv2.circle(img,(x,y),3, (0,0,255),-1)\n",
    "        points.append((x, y))\n",
    "        if len(points) >=2:\n",
    "            cv2.line(img, points[-1], points[-2], (255,0,0), 3)\n",
    "        cv2.imshow('image',img)\n",
    "        \n",
    "   \n",
    "img = np.zeros((512,512,3), np.uint8)\n",
    "#img = cv2.imread('lena.jpg')\n",
    "\n",
    "cv2.imshow('image',img)\n",
    "points = []\n",
    "\n",
    "cv2.setMouseCallback('image', click_event)\n",
    "\n",
    "cv2.waitKey(0)\n",
    "cv2.destroyAllWindows()"
   ]
  },
  {
   "cell_type": "code",
   "execution_count": 1,
   "id": "figured-scheme",
   "metadata": {},
   "outputs": [],
   "source": [
    "import numpy as np\n",
    "import cv2\n",
    "\n",
    "def click_event(event, x, y, flags, param):\n",
    "    if event == cv2.EVENT_LBUTTONDOWN:\n",
    "        blue   = img[x,y,0]\n",
    "        green  = img[x,y,1]\n",
    "        red    = img[x,y,2]\n",
    "        cv2.circle(img,(x,y),3,(0,0,255), -1)\n",
    "        mycolorImage= np.zeros((512,512,3), np.uint8)\n",
    "        \n",
    "        mycolorImage[:] = [blue,green,red]\n",
    "        \n",
    "        cv2.imshow('color',mycolorImage)\n",
    "        \n",
    "#img = np.zeros((512,512,3), np.uint8)\n",
    "img = cv2.imread('lena.jpg')\n",
    "\n",
    "cv2.imshow('image',img)\n",
    "points = []\n",
    "\n",
    "cv2.setMouseCallback('image', click_event)\n",
    "\n",
    "cv2.waitKey(0)\n",
    "cv2.destroyAllWindows()"
   ]
  },
  {
   "cell_type": "code",
   "execution_count": null,
   "id": "affiliated-cedar",
   "metadata": {},
   "outputs": [],
   "source": []
  }
 ],
 "metadata": {
  "kernelspec": {
   "display_name": "Python 3",
   "language": "python",
   "name": "python3"
  },
  "language_info": {
   "codemirror_mode": {
    "name": "ipython",
    "version": 3
   },
   "file_extension": ".py",
   "mimetype": "text/x-python",
   "name": "python",
   "nbconvert_exporter": "python",
   "pygments_lexer": "ipython3",
   "version": "3.7.10"
  }
 },
 "nbformat": 4,
 "nbformat_minor": 5
}
