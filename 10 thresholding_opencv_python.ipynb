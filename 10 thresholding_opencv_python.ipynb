{
 "cells": [
  {
   "cell_type": "code",
   "execution_count": 1,
   "id": "ongoing-toddler",
   "metadata": {},
   "outputs": [],
   "source": [
    "#detecting of object using comarisoin with similaring image"
   ]
  },
  {
   "cell_type": "code",
   "execution_count": 3,
   "id": "flexible-petroleum",
   "metadata": {},
   "outputs": [],
   "source": [
    "import cv2 as cv\n",
    "import numpy as np\n",
    "\n",
    "img = cv.imread('gradient.png',0)\n",
    "\n",
    "\n",
    "cv.imshow(\"image\",img)\n",
    "\n",
    "cv.waitKey(0)\n",
    "cv.destroyAllWindows()\n"
   ]
  },
  {
   "cell_type": "code",
   "execution_count": 13,
   "id": "cordless-improvement",
   "metadata": {},
   "outputs": [],
   "source": [
    "import cv2 as cv\n",
    "import numpy as np\n",
    "\n",
    "img = cv.imread('gradient.png',0)\n",
    "_, th1 = cv.threshold(img, 127,255, cv.THRESH_BINARY)\n",
    "\n",
    "\n",
    "cv.imshow(\"image\",img)\n",
    "cv.imshow(\"th1\", th1)\n",
    "\n",
    "cv.waitKey(0)\n",
    "cv.destroyAllWindows()\n"
   ]
  },
  {
   "cell_type": "code",
   "execution_count": 9,
   "id": "above-trauma",
   "metadata": {},
   "outputs": [],
   "source": [
    "import cv2 as cv\n",
    "import numpy as np\n",
    "\n",
    "img = cv.imread('gradient.png',0)\n",
    "_, th2 = cv.threshold(img, 200,255, cv.THRESH_BINARY_INV)\n",
    "_, th1 = cv.threshold(img, 50,255, cv.THRESH_BINARY)\n",
    "\n",
    "\n",
    "cv.imshow(\"image\",img)\n",
    "cv.imshow(\"th1\", th1)\n",
    "cv.imshow(\"th2\", th2)\n",
    "\n",
    "cv.waitKey(0)\n",
    "cv.destroyAllWindows()\n"
   ]
  },
  {
   "cell_type": "code",
   "execution_count": 11,
   "id": "dress-workplace",
   "metadata": {},
   "outputs": [],
   "source": [
    "import cv2 as cv\n",
    "import numpy as np\n",
    "\n",
    "img = cv.imread('gradient.png',0)\n",
    "_, th1 = cv.threshold(img, 127,255, cv.THRESH_TRUNC)\n",
    "\n",
    "\n",
    "cv.imshow(\"image\",img)\n",
    "cv.imshow(\"th1\", th1)\n",
    "\n",
    "cv.waitKey(0)\n",
    "cv.destroyAllWindows()\n"
   ]
  },
  {
   "cell_type": "code",
   "execution_count": 14,
   "id": "seasonal-township",
   "metadata": {},
   "outputs": [],
   "source": [
    "import cv2 as cv\n",
    "import numpy as np\n",
    "\n",
    "img = cv.imread('gradient.png',0)\n",
    "_, th1 = cv.threshold(img, 127,255, cv.THRESH_TOZERO)\n",
    "_, th2 = cv.threshold(img, 127,255, cv.THRESH_TOZERO_INV)\n",
    "\n",
    "\n",
    "cv.imshow(\"image\",img)\n",
    "cv.imshow(\"th1\", th1)\n",
    "cv.imshow(\"th2\", th2)\n",
    "\n",
    "cv.waitKey(0)\n",
    "cv.destroyAllWindows()\n"
   ]
  },
  {
   "cell_type": "markdown",
   "id": "annoying-version",
   "metadata": {},
   "source": [
    "------------------------------------------------------"
   ]
  },
  {
   "cell_type": "code",
   "execution_count": 15,
   "id": "significant-waterproof",
   "metadata": {},
   "outputs": [],
   "source": [
    "#adoptive thresholding"
   ]
  },
  {
   "cell_type": "code",
   "execution_count": 24,
   "id": "obvious-distance",
   "metadata": {},
   "outputs": [],
   "source": [
    "import cv2 as cv\n",
    "import numpy as np\n",
    "\n",
    "img = cv.imread(\"sudoku.png\", 0)\n",
    "_, th1 = cv.threshold(img, 127,255, cv.THRESH_BINARY)\n",
    "th2  = cv.adaptiveThreshold(img, 255, cv.ADAPTIVE_THRESH_MEAN_C, cv.THRESH_BINARY, 11, 2);\n",
    "#th3  = cv.adaptiveThreshold(img, 255, cv.ADAPTIVE_THRESH_GAUSSIAN_C, cv.THRESH_BINARY, 11, 2);\n",
    "\n",
    "cv.imshow(\"image\", img)\n",
    "cv.imshow(\"th1\", th1)\n",
    "cv.imshow(\"th2\", th2)\n",
    "\n",
    "\n",
    "cv.waitKey(0)\n",
    "cv.destroyAllWindows()"
   ]
  },
  {
   "cell_type": "code",
   "execution_count": 22,
   "id": "paperback-tractor",
   "metadata": {},
   "outputs": [],
   "source": [
    "import cv2 as cv\n",
    "import numpy as np\n",
    "\n",
    "img = cv.imread(\"sudoku.png\", 0)\n",
    "_, th1 = cv.threshold(img, 127,255, cv.THRESH_BINARY)\n",
    "th2  = cv.adaptiveThreshold(img, 255, cv.ADAPTIVE_THRESH_MEAN_C, cv.THRESH_BINARY, 11, 2);\n",
    "th3  = cv.adaptiveThreshold(img, 255, cv.ADAPTIVE_THRESH_GAUSSIAN_C, cv.THRESH_BINARY, 11, 2);\n",
    "\n",
    "cv.imshow(\"image\", img)\n",
    "cv.imshow(\"th1\", th1)\n",
    "cv.imshow(\"th2\", th2)\n",
    "cv.imshow(\"th3\", th3)\n",
    "\n",
    "cv.waitKey(0)\n",
    "cv.destroyAllWindows()"
   ]
  },
  {
   "cell_type": "code",
   "execution_count": null,
   "id": "devoted-diamond",
   "metadata": {},
   "outputs": [],
   "source": []
  }
 ],
 "metadata": {
  "kernelspec": {
   "display_name": "Python 3",
   "language": "python",
   "name": "python3"
  },
  "language_info": {
   "codemirror_mode": {
    "name": "ipython",
    "version": 3
   },
   "file_extension": ".py",
   "mimetype": "text/x-python",
   "name": "python",
   "nbconvert_exporter": "python",
   "pygments_lexer": "ipython3",
   "version": "3.7.10"
  }
 },
 "nbformat": 4,
 "nbformat_minor": 5
}
