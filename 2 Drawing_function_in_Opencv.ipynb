{
 "cells": [
  {
   "cell_type": "code",
   "execution_count": 1,
   "id": "realistic-journalism",
   "metadata": {},
   "outputs": [],
   "source": [
    "import cv2\n",
    "\n",
    "img = cv2.imread('lena.jpg',1)\n",
    "\n",
    "img = cv2.line(img, (0,0), (255,255), (219,173,55), 2)\n",
    "img = cv2.arrowedLine(img, (0,255), (255,255), (0,0,255), 5)\n",
    "\n",
    "cv2.imshow('image',img)\n",
    "\n",
    "\n",
    "cv2.waitKey(0)\n",
    "cv2.destroyAllWindows()"
   ]
  },
  {
   "cell_type": "code",
   "execution_count": 2,
   "id": "wooden-germany",
   "metadata": {},
   "outputs": [],
   "source": [
    "import cv2\n",
    "\n",
    "img = cv2.imread('lena.jpg',1)\n",
    "\n",
    "#img = cv2.line(img, (0,0), (255,255), (219,173,55), 2)\n",
    "#img = cv2.arrowedLine(img, (0,255), (255,255), (0,0,255), 5)\n",
    "\n",
    "img = cv2.rectangle(img, (384,0), (510,128), (0,255,0), 3)\n",
    "cv2.imshow('image',img)\n",
    "\n",
    "\n",
    "cv2.waitKey(0)\n",
    "cv2.destroyAllWindows()"
   ]
  },
  {
   "cell_type": "code",
   "execution_count": 3,
   "id": "union-insider",
   "metadata": {},
   "outputs": [],
   "source": [
    "import cv2\n",
    "\n",
    "img = cv2.imread('lena.jpg',1)\n",
    "\n",
    "#img = cv2.line(img, (0,0), (255,255), (219,173,55), 2)\n",
    "#img = cv2.arrowedLine(img, (0,255), (255,255), (0,0,255), 5)\n",
    "\n",
    "#img = cv2.rectangle(img, (384,0), (510,128), (0,255,0), 3)\n",
    "img = cv2.circle(img,(447,63), 63, (0,255,0), 5)\n",
    "font = cv2.FONT_HERSHEY_SIMPLEX\n",
    "img = cv2.putText(img,'Deepak', (10,500),font, 4 ,(0,255,255),10, cv2.LINE_AA)\n",
    "\n",
    "cv2.imshow('image',img)\n",
    "\n",
    "\n",
    "cv2.waitKey(0)\n",
    "cv2.destroyAllWindows()"
   ]
  },
  {
   "cell_type": "code",
   "execution_count": 4,
   "id": "republican-pipeline",
   "metadata": {},
   "outputs": [],
   "source": [
    "import cv2\n",
    "import numpy as np\n",
    "\n",
    "img = np.zeros([512,512,3], np.uint8)\n",
    "\n",
    "\n",
    "img = cv2.line(img, (0,0), (255,155), (219,173,55), 2)\n",
    "img = cv2.arrowedLine(img, (0,255), (255,255), (0,0,255), 5)\n",
    "img = cv2.rectangle(img, (384,0), (510,128), (0,255,0), 3)\n",
    "img = cv2.circle(img,(447,63), 63, (0,255,0), 5)\n",
    "font = cv2.FONT_HERSHEY_SIMPLEX\n",
    "img = cv2.putText(img,'Deepak', (10,500),font, 3 ,(0,255,255),10, cv2.LINE_AA)\n",
    "\n",
    "cv2.imshow('image',img)\n",
    "\n",
    "\n",
    "cv2.waitKey(0)\n",
    "cv2.destroyAllWindows()"
   ]
  },
  {
   "cell_type": "code",
   "execution_count": null,
   "id": "funded-forum",
   "metadata": {},
   "outputs": [],
   "source": []
  }
 ],
 "metadata": {
  "kernelspec": {
   "display_name": "Python 3",
   "language": "python",
   "name": "python3"
  },
  "language_info": {
   "codemirror_mode": {
    "name": "ipython",
    "version": 3
   },
   "file_extension": ".py",
   "mimetype": "text/x-python",
   "name": "python",
   "nbconvert_exporter": "python",
   "pygments_lexer": "ipython3",
   "version": "3.7.10"
  }
 },
 "nbformat": 4,
 "nbformat_minor": 5
}
