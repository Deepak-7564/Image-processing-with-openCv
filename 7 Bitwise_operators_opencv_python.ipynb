{
 "cells": [
  {
   "cell_type": "code",
   "execution_count": 6,
   "id": "official-fantasy",
   "metadata": {},
   "outputs": [],
   "source": [
    "#Applying LOGICs  (BitAnd, bitOr (and, or logic on the images)\n",
    "import numpy as np\n",
    "import cv2\n",
    "\n",
    "img = np.zeros((250,500,3), np.uint8)\n",
    "img1 = cv2.rectangle(img,(200,0),(300, 100), (255,255,255), -1)\n",
    "img2 = cv2.imread(\"image_1.png\")\n",
    "img1 = cv2.resize(img, (512, 512))\n",
    "img2 = cv2.resize(img2, (512,512))\n",
    "\n",
    "bitAnd = cv2.bitwise_and(img2,img1)\n",
    "bitOr = cv2.bitwise_or(img2, img1)\n",
    "bitxor = cv2.bitwise_xor(img2,img1)\n",
    "bitnot = cv2.bitwise_not(img2)\n",
    "bitnot1 = cv2.bitwise_not(img1)\n",
    "\n",
    "cv2.imshow(\"img1\", img1)\n",
    "cv2.imshow(\"img2\", img2)\n",
    "cv2.imshow('bitnot for img2 ', bitnot)\n",
    "cv2.imshow('bitnot for img1', bitnot1)\n",
    "\n",
    "\n",
    "cv2.waitKey(0)\n",
    "cv2.destroyAllWindows()"
   ]
  },
  {
   "cell_type": "code",
   "execution_count": null,
   "id": "awful-darkness",
   "metadata": {},
   "outputs": [],
   "source": []
  },
  {
   "cell_type": "code",
   "execution_count": null,
   "id": "prescribed-matter",
   "metadata": {},
   "outputs": [],
   "source": []
  },
  {
   "cell_type": "code",
   "execution_count": null,
   "id": "utility-stranger",
   "metadata": {},
   "outputs": [],
   "source": []
  }
 ],
 "metadata": {
  "kernelspec": {
   "display_name": "Python 3",
   "language": "python",
   "name": "python3"
  },
  "language_info": {
   "codemirror_mode": {
    "name": "ipython",
    "version": 3
   },
   "file_extension": ".py",
   "mimetype": "text/x-python",
   "name": "python",
   "nbconvert_exporter": "python",
   "pygments_lexer": "ipython3",
   "version": "3.7.10"
  }
 },
 "nbformat": 4,
 "nbformat_minor": 5
}
