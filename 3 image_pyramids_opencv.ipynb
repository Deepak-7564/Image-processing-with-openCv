{
 "cells": [
  {
   "cell_type": "code",
   "execution_count": 1,
   "id": "d4dc7546",
   "metadata": {},
   "outputs": [],
   "source": [
    "import cv2\n",
    "import numpy as np\n",
    "\n",
    "img = cv2.imread(\"lena.jpg\")\n",
    "\n",
    "lr = cv2.pyrDown(img)\n",
    "\n",
    "cv2.imshow(\"Original image\", img)\n",
    "cv2.imshow(\"pyrdown1 image\", lr)\n",
    "\n",
    "cv2.waitKey(0)\n",
    "cv2.destroyAllWindows()"
   ]
  },
  {
   "cell_type": "code",
   "execution_count": 2,
   "id": "cf44724a",
   "metadata": {},
   "outputs": [],
   "source": [
    "import cv2\n",
    "import numpy as np\n",
    "\n",
    "img = cv2.imread(\"lena.jpg\")\n",
    "\n",
    "lr1 = cv2.pyrDown(img)\n",
    "lr2 = cv2.pyrDown(lr1)\n",
    "\n",
    "cv2.imshow(\"Original image\", img)\n",
    "cv2.imshow(\"pyrdown1 image\", lr)\n",
    "cv2.imshow(\"pyrdown2 image\", lr2)\n",
    "\n",
    "cv2.waitKey(0)\n",
    "cv2.destroyAllWindows()"
   ]
  },
  {
   "cell_type": "code",
   "execution_count": 3,
   "id": "c40c5aea",
   "metadata": {},
   "outputs": [],
   "source": [
    "import cv2\n",
    "import numpy as np\n",
    "\n",
    "img = cv2.imread(\"lena.jpg\")\n",
    "\n",
    "lr1 = cv2.pyrDown(img)\n",
    "lr2 = cv2.pyrDown(lr1)\n",
    "hr2 = cv2.pyrUp(lr2)\n",
    "\n",
    "cv2.imshow(\"Original image\", img)\n",
    "cv2.imshow(\"pyrdown1 image\", lr)\n",
    "cv2.imshow(\"pyrdown2 image\", lr2)\n",
    "cv2.imshow(\"pyrup image\", hr2)\n",
    "\n",
    "cv2.waitKey(0)\n",
    "cv2.destroyAllWindows()"
   ]
  },
  {
   "cell_type": "code",
   "execution_count": 4,
   "id": "0b5fe6c1",
   "metadata": {},
   "outputs": [],
   "source": [
    "import cv2\n",
    "import numpy as np\n",
    "\n",
    "img = cv2.imread(\"lena.jpg\")\n",
    "layer = img.copy()\n",
    "\n",
    "gp = [layer]\n",
    "for i in range(6):\n",
    "    layer = cv2.pyrDown(layer)\n",
    "    gp.append(layer)\n",
    "    cv2.imshow(str(i), layer)\n",
    "\n",
    "cv2.imshow(\"Original image\", img)\n",
    "\n",
    "cv2.waitKey(0)\n",
    "cv2.destroyAllWindows()"
   ]
  },
  {
   "cell_type": "code",
   "execution_count": 5,
   "id": "6efc7645",
   "metadata": {},
   "outputs": [],
   "source": [
    "import cv2\n",
    "import numpy as np\n",
    "\n",
    "img = cv2.imread(\"lena.jpg\")\n",
    "layer = img.copy()\n",
    "\n",
    "gp = [layer]\n",
    "for i in range(2):\n",
    "    layer = cv2.pyrUp(layer)\n",
    "    gp.append(layer)\n",
    "    cv2.imshow(str(i), layer)\n",
    "\n",
    "cv2.imshow(\"Original image\", img)\n",
    "\n",
    "cv2.waitKey(0)\n",
    "cv2.destroyAllWindows() "
   ]
  },
  {
   "cell_type": "code",
   "execution_count": 6,
   "id": "1cb6bf99",
   "metadata": {},
   "outputs": [
    {
     "name": "stdout",
     "output_type": "stream",
     "text": [
      "5\n",
      "4\n",
      "3\n",
      "2\n",
      "1\n"
     ]
    }
   ],
   "source": [
    "import cv2\n",
    "import numpy as np\n",
    "\n",
    "img = cv2.imread(\"lena.jpg\")\n",
    "layer = img.copy()\n",
    "\n",
    "gp = [layer]\n",
    "for i in range(6):\n",
    "    layer = cv2.pyrDown(layer)\n",
    "    gp.append(layer)\n",
    "    #cv2.imshow(str(i), layer)\n",
    "\n",
    "layer = gp[5]\n",
    "cv2.imshow('upper level Gaussian Pyramid', layer)\n",
    "lp = [layer]\n",
    "\n",
    "for i in range(5, 0 ,-1):\n",
    "    print(i)\n",
    "    \n",
    "cv2.imshow(\"Original image\", img)\n",
    "\n",
    "cv2.waitKey(0)\n",
    "cv2.destroyAllWindows()"
   ]
  },
  {
   "cell_type": "code",
   "execution_count": 6,
   "id": "6728666a",
   "metadata": {},
   "outputs": [],
   "source": [
    "import cv2\n",
    "import numpy as np\n",
    "\n",
    "img = cv2.imread(\"lena.jpg\")\n",
    "layer = img.copy()\n",
    "\n",
    "gp = [layer]\n",
    "for i in range(6):\n",
    "    layer = cv2.pyrDown(layer)\n",
    "    gp.append(layer)\n",
    "    #cv2.imshow(str(i), layer)\n",
    "\n",
    "layer = gp[5]\n",
    "cv2.imshow('upper level Gaussian Pyramid', layer)\n",
    "lp = [layer]\n",
    "\n",
    "for i in range(5, 0 ,-1):\n",
    "    gaussian_extended = cv2.pyrUp(gp[i])\n",
    "    laplacian = cv2.subtract(gp[i-1], gaussian_extended)\n",
    "    cv2.imshow(str(i), laplacian)\n",
    "    \n",
    "cv2.imshow(\"Original image\", img)\n",
    "\n",
    "cv2.waitKey(0)\n",
    "cv2.destroyAllWindows()"
   ]
  },
  {
   "cell_type": "code",
   "execution_count": null,
   "id": "25be5fa4",
   "metadata": {},
   "outputs": [],
   "source": []
  }
 ],
 "metadata": {
  "kernelspec": {
   "display_name": "Python 3",
   "language": "python",
   "name": "python3"
  },
  "language_info": {
   "codemirror_mode": {
    "name": "ipython",
    "version": 3
   },
   "file_extension": ".py",
   "mimetype": "text/x-python",
   "name": "python",
   "nbconvert_exporter": "python",
   "pygments_lexer": "ipython3",
   "version": "3.7.10"
  }
 },
 "nbformat": 4,
 "nbformat_minor": 5
}
